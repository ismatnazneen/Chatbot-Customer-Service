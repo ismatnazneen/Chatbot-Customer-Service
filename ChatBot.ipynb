{
  "nbformat": 4,
  "nbformat_minor": 0,
  "metadata": {
    "colab": {
      "provenance": []
    },
    "kernelspec": {
      "name": "python3",
      "display_name": "Python 3"
    },
    "language_info": {
      "name": "python"
    }
  },
  "cells": [
    {
      "cell_type": "code",
      "execution_count": 1,
      "metadata": {
        "id": "omGfp6Txb_bh"
      },
      "outputs": [],
      "source": [
        "import numpy as np\n",
        "import nltk\n",
        "import json\n",
        "import pickle\n",
        "import re\n",
        "import random\n",
        "from keras.models import Sequential\n",
        "from keras.layers import Dense, Activation, Dropout\n",
        "from tensorflow.keras.optimizers import SGD\n",
        "from nltk.stem import WordNetLemmatizer"
      ]
    },
    {
      "cell_type": "code",
      "source": [
        "nltk.download('punkt')\n",
        "nltk.download('wordnet')"
      ],
      "metadata": {
        "colab": {
          "base_uri": "https://localhost:8080/"
        },
        "id": "I6egvbEueoA_",
        "outputId": "f04ce474-635c-47cd-d971-af519eb50c44"
      },
      "execution_count": 2,
      "outputs": [
        {
          "output_type": "stream",
          "name": "stderr",
          "text": [
            "[nltk_data] Downloading package punkt to /root/nltk_data...\n",
            "[nltk_data]   Unzipping tokenizers/punkt.zip.\n",
            "[nltk_data] Downloading package wordnet to /root/nltk_data...\n"
          ]
        },
        {
          "output_type": "execute_result",
          "data": {
            "text/plain": [
              "True"
            ]
          },
          "metadata": {},
          "execution_count": 2
        }
      ]
    },
    {
      "cell_type": "code",
      "source": [
        "tokenized_words=[]\n",
        "classes = []\n",
        "doc = []\n",
        "ignoring_words = ['?', '!']\n",
        "data_file = open('/content/intents.json').read()\n",
        "intents = json.loads(data_file)"
      ],
      "metadata": {
        "id": "J8UqAvx_eoiA"
      },
      "execution_count": 3,
      "outputs": []
    },
    {
      "cell_type": "code",
      "source": [
        "for intent in intents['intents']:\n",
        "    for pattern in intent['patterns']:\n",
        "\n",
        "        #tokenize each word\n",
        "        w = nltk.word_tokenize(pattern)\n",
        "        tokenized_words.extend(w)\n",
        "        #add documents in the corpus\n",
        "        doc.append((w, intent['tag']))\n",
        "\n",
        "        # add to our classes list\n",
        "        if intent['tag'] not in classes:\n",
        "            classes.append(intent['tag'])"
      ],
      "metadata": {
        "id": "oLKCDv1WepAL"
      },
      "execution_count": 4,
      "outputs": []
    },
    {
      "cell_type": "code",
      "source": [
        "lemmatizer = WordNetLemmatizer()\n",
        "lemmatized_words = [lemmatizer.lemmatize(words.lower()) for words in tokenized_words if w not in ignoring_words] #lemmatization"
      ],
      "metadata": {
        "id": "kd7rXZsdepUH"
      },
      "execution_count": 5,
      "outputs": []
    },
    {
      "cell_type": "code",
      "source": [
        "lemmatized_words = sorted(list(set(lemmatized_words)))\n",
        "classes = sorted(list(set(classes)))"
      ],
      "metadata": {
        "id": "VuzEXmOzkJmg"
      },
      "execution_count": 6,
      "outputs": []
    },
    {
      "cell_type": "code",
      "source": [
        "pickle.dump(lemmatized_words,open('lem_words.pkl','wb'))\n",
        "pickle.dump(classes,open('classes.pkl','wb'))"
      ],
      "metadata": {
        "id": "sZizzI0tkJ4x"
      },
      "execution_count": 7,
      "outputs": []
    },
    {
      "cell_type": "code",
      "source": [
        "training_data = []\n",
        "\n",
        "empty_array = [0] * len(classes)\n",
        "\n",
        "for d in doc:\n",
        "\n",
        "    bag_of_words = []\n",
        "\n",
        "    pattern = d[0]\n",
        "\n",
        "    pattern = [lemmatizer.lemmatize(word.lower()) for word in pattern]\n",
        "\n",
        "    for w in lemmatized_words:\n",
        "\n",
        "        bag_of_words.append(1) if w in pattern else bag_of_words.append(0)\n",
        "\n",
        "    output_row = list(empty_array)\n",
        "\n",
        "    output_row[classes.index(d[1])] = 1\n",
        "\n",
        "    training_data.append([bag_of_words, output_row])\n",
        "\n",
        "random.shuffle(training_data)\n",
        "\n",
        "training = np.array(training_data)\n",
        "\n",
        "train_x = list(training[:,0])\n",
        "\n",
        "train_y = list(training[:,1])"
      ],
      "metadata": {
        "colab": {
          "base_uri": "https://localhost:8080/"
        },
        "id": "XaVzW42PmRNG",
        "outputId": "d29b9fee-e2c5-4ad0-caf8-5df616113315"
      },
      "execution_count": 8,
      "outputs": [
        {
          "output_type": "stream",
          "name": "stderr",
          "text": [
            "<ipython-input-8-5eb568a5f5c9>:25: VisibleDeprecationWarning: Creating an ndarray from ragged nested sequences (which is a list-or-tuple of lists-or-tuples-or ndarrays with different lengths or shapes) is deprecated. If you meant to do this, you must specify 'dtype=object' when creating the ndarray.\n",
            "  training = np.array(training_data)\n"
          ]
        }
      ]
    },
    {
      "cell_type": "code",
      "source": [
        "bot_model = Sequential()\n",
        "bot_model.add(Dense(128, input_shape=(len(train_x[0]),), activation='relu'))\n",
        "bot_model.add(Dropout(0.5))\n",
        "bot_model.add(Dense(64, activation='relu'))\n",
        "bot_model.add(Dropout(0.5))\n",
        "bot_model.add(Dropout(0.25))\n",
        "bot_model.add(Dense(len(train_y[0]), activation='softmax'))"
      ],
      "metadata": {
        "id": "XL_wa2dZmRif"
      },
      "execution_count": 10,
      "outputs": []
    },
    {
      "cell_type": "code",
      "source": [
        "from keras.optimizers import SGD\n",
        "sgd = SGD(learning_rate=0.01, momentum=0.9, nesterov=True)\n",
        "bot_model.compile(loss='categorical_crossentropy', optimizer=sgd, metrics=['accuracy'])"
      ],
      "metadata": {
        "id": "0QpVhRIlmR1i"
      },
      "execution_count": 15,
      "outputs": []
    },
    {
      "cell_type": "code",
      "source": [
        "x_train = np.array(train_x)\n",
        "y_train = np.array(train_y)\n",
        "hist = bot_model.fit(x_train, y_train, epochs=200, batch_size=5, verbose=1)"
      ],
      "metadata": {
        "colab": {
          "base_uri": "https://localhost:8080/"
        },
        "id": "Ha674ddKp1ny",
        "outputId": "0cb8e26f-bdae-42a2-bef0-11fe82d436ea"
      },
      "execution_count": 18,
      "outputs": [
        {
          "output_type": "stream",
          "name": "stdout",
          "text": [
            "Epoch 1/200\n",
            "4/4 [==============================] - 1s 7ms/step - loss: 1.4131 - accuracy: 0.1579\n",
            "Epoch 2/200\n",
            "4/4 [==============================] - 0s 6ms/step - loss: 1.4170 - accuracy: 0.1053\n",
            "Epoch 3/200\n",
            "4/4 [==============================] - 0s 4ms/step - loss: 1.4335 - accuracy: 0.4211\n",
            "Epoch 4/200\n",
            "4/4 [==============================] - 0s 5ms/step - loss: 1.2977 - accuracy: 0.3684\n",
            "Epoch 5/200\n",
            "4/4 [==============================] - 0s 7ms/step - loss: 1.2602 - accuracy: 0.3684\n",
            "Epoch 6/200\n",
            "4/4 [==============================] - 0s 6ms/step - loss: 1.1614 - accuracy: 0.4737\n",
            "Epoch 7/200\n",
            "4/4 [==============================] - 0s 7ms/step - loss: 1.1458 - accuracy: 0.5789\n",
            "Epoch 8/200\n",
            "4/4 [==============================] - 0s 5ms/step - loss: 1.1206 - accuracy: 0.5789\n",
            "Epoch 9/200\n",
            "4/4 [==============================] - 0s 5ms/step - loss: 1.0113 - accuracy: 0.7895\n",
            "Epoch 10/200\n",
            "4/4 [==============================] - 0s 5ms/step - loss: 0.8912 - accuracy: 0.6842\n",
            "Epoch 11/200\n",
            "4/4 [==============================] - 0s 5ms/step - loss: 0.8856 - accuracy: 0.8421\n",
            "Epoch 12/200\n",
            "4/4 [==============================] - 0s 5ms/step - loss: 0.7978 - accuracy: 0.7895\n",
            "Epoch 13/200\n",
            "4/4 [==============================] - 0s 5ms/step - loss: 0.6566 - accuracy: 0.8947\n",
            "Epoch 14/200\n",
            "4/4 [==============================] - 0s 5ms/step - loss: 0.7268 - accuracy: 0.8421\n",
            "Epoch 15/200\n",
            "4/4 [==============================] - 0s 5ms/step - loss: 0.7349 - accuracy: 0.8947\n",
            "Epoch 16/200\n",
            "4/4 [==============================] - 0s 5ms/step - loss: 0.7205 - accuracy: 0.7368\n",
            "Epoch 17/200\n",
            "4/4 [==============================] - 0s 5ms/step - loss: 0.5409 - accuracy: 0.8947\n",
            "Epoch 18/200\n",
            "4/4 [==============================] - 0s 5ms/step - loss: 0.5250 - accuracy: 0.9474\n",
            "Epoch 19/200\n",
            "4/4 [==============================] - 0s 6ms/step - loss: 0.3895 - accuracy: 1.0000\n",
            "Epoch 20/200\n",
            "4/4 [==============================] - 0s 5ms/step - loss: 0.4184 - accuracy: 0.8947\n",
            "Epoch 21/200\n",
            "4/4 [==============================] - 0s 5ms/step - loss: 0.3886 - accuracy: 0.8947\n",
            "Epoch 22/200\n",
            "4/4 [==============================] - 0s 5ms/step - loss: 0.6291 - accuracy: 0.7895\n",
            "Epoch 23/200\n",
            "4/4 [==============================] - 0s 5ms/step - loss: 0.4590 - accuracy: 0.9474\n",
            "Epoch 24/200\n",
            "4/4 [==============================] - 0s 5ms/step - loss: 0.3819 - accuracy: 0.8947\n",
            "Epoch 25/200\n",
            "4/4 [==============================] - 0s 5ms/step - loss: 0.3677 - accuracy: 0.9474\n",
            "Epoch 26/200\n",
            "4/4 [==============================] - 0s 5ms/step - loss: 0.2808 - accuracy: 0.9474\n",
            "Epoch 27/200\n",
            "4/4 [==============================] - 0s 5ms/step - loss: 0.2408 - accuracy: 0.9474\n",
            "Epoch 28/200\n",
            "4/4 [==============================] - 0s 6ms/step - loss: 0.2600 - accuracy: 0.9474\n",
            "Epoch 29/200\n",
            "4/4 [==============================] - 0s 5ms/step - loss: 0.5141 - accuracy: 0.8421\n",
            "Epoch 30/200\n",
            "4/4 [==============================] - 0s 5ms/step - loss: 0.2367 - accuracy: 1.0000\n",
            "Epoch 31/200\n",
            "4/4 [==============================] - 0s 5ms/step - loss: 0.2297 - accuracy: 0.9474\n",
            "Epoch 32/200\n",
            "4/4 [==============================] - 0s 5ms/step - loss: 0.2440 - accuracy: 0.9474\n",
            "Epoch 33/200\n",
            "4/4 [==============================] - 0s 5ms/step - loss: 0.2568 - accuracy: 0.9474\n",
            "Epoch 34/200\n",
            "4/4 [==============================] - 0s 5ms/step - loss: 0.2513 - accuracy: 0.8947\n",
            "Epoch 35/200\n",
            "4/4 [==============================] - 0s 5ms/step - loss: 0.1500 - accuracy: 1.0000\n",
            "Epoch 36/200\n",
            "4/4 [==============================] - 0s 5ms/step - loss: 0.1904 - accuracy: 1.0000\n",
            "Epoch 37/200\n",
            "4/4 [==============================] - 0s 5ms/step - loss: 0.2141 - accuracy: 0.8947\n",
            "Epoch 38/200\n",
            "4/4 [==============================] - 0s 5ms/step - loss: 0.2990 - accuracy: 0.9474\n",
            "Epoch 39/200\n",
            "4/4 [==============================] - 0s 4ms/step - loss: 0.0828 - accuracy: 1.0000\n",
            "Epoch 40/200\n",
            "4/4 [==============================] - 0s 5ms/step - loss: 0.1400 - accuracy: 1.0000\n",
            "Epoch 41/200\n",
            "4/4 [==============================] - 0s 6ms/step - loss: 0.1715 - accuracy: 1.0000\n",
            "Epoch 42/200\n",
            "4/4 [==============================] - 0s 5ms/step - loss: 0.1168 - accuracy: 1.0000\n",
            "Epoch 43/200\n",
            "4/4 [==============================] - 0s 6ms/step - loss: 0.2197 - accuracy: 0.9474\n",
            "Epoch 44/200\n",
            "4/4 [==============================] - 0s 7ms/step - loss: 0.2754 - accuracy: 0.9474\n",
            "Epoch 45/200\n",
            "4/4 [==============================] - 0s 6ms/step - loss: 0.0976 - accuracy: 1.0000\n",
            "Epoch 46/200\n",
            "4/4 [==============================] - 0s 5ms/step - loss: 0.0962 - accuracy: 1.0000\n",
            "Epoch 47/200\n",
            "4/4 [==============================] - 0s 5ms/step - loss: 0.0948 - accuracy: 1.0000\n",
            "Epoch 48/200\n",
            "4/4 [==============================] - 0s 6ms/step - loss: 0.2306 - accuracy: 0.8947\n",
            "Epoch 49/200\n",
            "4/4 [==============================] - 0s 5ms/step - loss: 0.0598 - accuracy: 1.0000\n",
            "Epoch 50/200\n",
            "4/4 [==============================] - 0s 6ms/step - loss: 0.0855 - accuracy: 1.0000\n",
            "Epoch 51/200\n",
            "4/4 [==============================] - 0s 5ms/step - loss: 0.1453 - accuracy: 1.0000\n",
            "Epoch 52/200\n",
            "4/4 [==============================] - 0s 5ms/step - loss: 0.0314 - accuracy: 1.0000\n",
            "Epoch 53/200\n",
            "4/4 [==============================] - 0s 5ms/step - loss: 0.1848 - accuracy: 0.9474\n",
            "Epoch 54/200\n",
            "4/4 [==============================] - 0s 5ms/step - loss: 0.0636 - accuracy: 1.0000\n",
            "Epoch 55/200\n",
            "4/4 [==============================] - 0s 5ms/step - loss: 0.0483 - accuracy: 1.0000\n",
            "Epoch 56/200\n",
            "4/4 [==============================] - 0s 5ms/step - loss: 0.1887 - accuracy: 0.9474\n",
            "Epoch 57/200\n",
            "4/4 [==============================] - 0s 5ms/step - loss: 0.0528 - accuracy: 1.0000\n",
            "Epoch 58/200\n",
            "4/4 [==============================] - 0s 5ms/step - loss: 0.0708 - accuracy: 1.0000\n",
            "Epoch 59/200\n",
            "4/4 [==============================] - 0s 5ms/step - loss: 0.0877 - accuracy: 0.9474\n",
            "Epoch 60/200\n",
            "4/4 [==============================] - 0s 5ms/step - loss: 0.0718 - accuracy: 1.0000\n",
            "Epoch 61/200\n",
            "4/4 [==============================] - 0s 6ms/step - loss: 0.0757 - accuracy: 0.9474\n",
            "Epoch 62/200\n",
            "4/4 [==============================] - 0s 5ms/step - loss: 0.1175 - accuracy: 0.9474\n",
            "Epoch 63/200\n",
            "4/4 [==============================] - 0s 5ms/step - loss: 0.1137 - accuracy: 0.9474\n",
            "Epoch 64/200\n",
            "4/4 [==============================] - 0s 5ms/step - loss: 0.0709 - accuracy: 1.0000\n",
            "Epoch 65/200\n",
            "4/4 [==============================] - 0s 5ms/step - loss: 0.0791 - accuracy: 1.0000\n",
            "Epoch 66/200\n",
            "4/4 [==============================] - 0s 5ms/step - loss: 0.0987 - accuracy: 1.0000\n",
            "Epoch 67/200\n",
            "4/4 [==============================] - 0s 5ms/step - loss: 0.1049 - accuracy: 0.9474\n",
            "Epoch 68/200\n",
            "4/4 [==============================] - 0s 5ms/step - loss: 0.0245 - accuracy: 1.0000\n",
            "Epoch 69/200\n",
            "4/4 [==============================] - 0s 4ms/step - loss: 0.0823 - accuracy: 0.9474\n",
            "Epoch 70/200\n",
            "4/4 [==============================] - 0s 5ms/step - loss: 0.0964 - accuracy: 1.0000\n",
            "Epoch 71/200\n",
            "4/4 [==============================] - 0s 5ms/step - loss: 0.0791 - accuracy: 0.9474\n",
            "Epoch 72/200\n",
            "4/4 [==============================] - 0s 5ms/step - loss: 0.0881 - accuracy: 0.9474\n",
            "Epoch 73/200\n",
            "4/4 [==============================] - 0s 6ms/step - loss: 0.0418 - accuracy: 1.0000\n",
            "Epoch 74/200\n",
            "4/4 [==============================] - 0s 5ms/step - loss: 0.1074 - accuracy: 0.9474\n",
            "Epoch 75/200\n",
            "4/4 [==============================] - 0s 5ms/step - loss: 0.0959 - accuracy: 0.9474\n",
            "Epoch 76/200\n",
            "4/4 [==============================] - 0s 5ms/step - loss: 0.1037 - accuracy: 0.9474\n",
            "Epoch 77/200\n",
            "4/4 [==============================] - 0s 5ms/step - loss: 0.0939 - accuracy: 1.0000\n",
            "Epoch 78/200\n",
            "4/4 [==============================] - 0s 6ms/step - loss: 0.0642 - accuracy: 1.0000\n",
            "Epoch 79/200\n",
            "4/4 [==============================] - 0s 5ms/step - loss: 0.1979 - accuracy: 0.8947\n",
            "Epoch 80/200\n",
            "4/4 [==============================] - 0s 5ms/step - loss: 0.0969 - accuracy: 0.9474\n",
            "Epoch 81/200\n",
            "4/4 [==============================] - 0s 5ms/step - loss: 0.0140 - accuracy: 1.0000\n",
            "Epoch 82/200\n",
            "4/4 [==============================] - 0s 7ms/step - loss: 0.0274 - accuracy: 1.0000\n",
            "Epoch 83/200\n",
            "4/4 [==============================] - 0s 8ms/step - loss: 0.0412 - accuracy: 1.0000\n",
            "Epoch 84/200\n",
            "4/4 [==============================] - 0s 5ms/step - loss: 0.0499 - accuracy: 1.0000\n",
            "Epoch 85/200\n",
            "4/4 [==============================] - 0s 5ms/step - loss: 0.2174 - accuracy: 0.9474\n",
            "Epoch 86/200\n",
            "4/4 [==============================] - 0s 5ms/step - loss: 0.0542 - accuracy: 1.0000\n",
            "Epoch 87/200\n",
            "4/4 [==============================] - 0s 6ms/step - loss: 0.0434 - accuracy: 1.0000\n",
            "Epoch 88/200\n",
            "4/4 [==============================] - 0s 5ms/step - loss: 0.0368 - accuracy: 1.0000\n",
            "Epoch 89/200\n",
            "4/4 [==============================] - 0s 5ms/step - loss: 0.0216 - accuracy: 1.0000\n",
            "Epoch 90/200\n",
            "4/4 [==============================] - 0s 5ms/step - loss: 0.0560 - accuracy: 0.9474\n",
            "Epoch 91/200\n",
            "4/4 [==============================] - 0s 5ms/step - loss: 0.0310 - accuracy: 1.0000\n",
            "Epoch 92/200\n",
            "4/4 [==============================] - 0s 5ms/step - loss: 0.0358 - accuracy: 1.0000\n",
            "Epoch 93/200\n",
            "4/4 [==============================] - 0s 5ms/step - loss: 0.0349 - accuracy: 1.0000\n",
            "Epoch 94/200\n",
            "4/4 [==============================] - 0s 5ms/step - loss: 0.0453 - accuracy: 1.0000\n",
            "Epoch 95/200\n",
            "4/4 [==============================] - 0s 6ms/step - loss: 0.0349 - accuracy: 1.0000\n",
            "Epoch 96/200\n",
            "4/4 [==============================] - 0s 5ms/step - loss: 0.0470 - accuracy: 1.0000\n",
            "Epoch 97/200\n",
            "4/4 [==============================] - 0s 5ms/step - loss: 0.0606 - accuracy: 1.0000\n",
            "Epoch 98/200\n",
            "4/4 [==============================] - 0s 5ms/step - loss: 0.0602 - accuracy: 1.0000\n",
            "Epoch 99/200\n",
            "4/4 [==============================] - 0s 5ms/step - loss: 0.0514 - accuracy: 1.0000\n",
            "Epoch 100/200\n",
            "4/4 [==============================] - 0s 5ms/step - loss: 0.0057 - accuracy: 1.0000\n",
            "Epoch 101/200\n",
            "4/4 [==============================] - 0s 6ms/step - loss: 0.0560 - accuracy: 1.0000\n",
            "Epoch 102/200\n",
            "4/4 [==============================] - 0s 6ms/step - loss: 0.0561 - accuracy: 1.0000\n",
            "Epoch 103/200\n",
            "4/4 [==============================] - 0s 5ms/step - loss: 0.0481 - accuracy: 1.0000\n",
            "Epoch 104/200\n",
            "4/4 [==============================] - 0s 6ms/step - loss: 0.0435 - accuracy: 1.0000\n",
            "Epoch 105/200\n",
            "4/4 [==============================] - 0s 5ms/step - loss: 0.0249 - accuracy: 1.0000\n",
            "Epoch 106/200\n",
            "4/4 [==============================] - 0s 5ms/step - loss: 0.0328 - accuracy: 1.0000\n",
            "Epoch 107/200\n",
            "4/4 [==============================] - 0s 5ms/step - loss: 0.0295 - accuracy: 1.0000\n",
            "Epoch 108/200\n",
            "4/4 [==============================] - 0s 5ms/step - loss: 0.0242 - accuracy: 1.0000\n",
            "Epoch 109/200\n",
            "4/4 [==============================] - 0s 5ms/step - loss: 0.0124 - accuracy: 1.0000\n",
            "Epoch 110/200\n",
            "4/4 [==============================] - 0s 5ms/step - loss: 0.0341 - accuracy: 1.0000\n",
            "Epoch 111/200\n",
            "4/4 [==============================] - 0s 5ms/step - loss: 0.0567 - accuracy: 1.0000\n",
            "Epoch 112/200\n",
            "4/4 [==============================] - 0s 6ms/step - loss: 0.0490 - accuracy: 1.0000\n",
            "Epoch 113/200\n",
            "4/4 [==============================] - 0s 5ms/step - loss: 0.0630 - accuracy: 0.9474\n",
            "Epoch 114/200\n",
            "4/4 [==============================] - 0s 5ms/step - loss: 0.0325 - accuracy: 1.0000\n",
            "Epoch 115/200\n",
            "4/4 [==============================] - 0s 5ms/step - loss: 0.0279 - accuracy: 1.0000\n",
            "Epoch 116/200\n",
            "4/4 [==============================] - 0s 5ms/step - loss: 0.0463 - accuracy: 1.0000\n",
            "Epoch 117/200\n",
            "4/4 [==============================] - 0s 5ms/step - loss: 0.0171 - accuracy: 1.0000\n",
            "Epoch 118/200\n",
            "4/4 [==============================] - 0s 5ms/step - loss: 0.0144 - accuracy: 1.0000\n",
            "Epoch 119/200\n",
            "4/4 [==============================] - 0s 5ms/step - loss: 0.0428 - accuracy: 1.0000\n",
            "Epoch 120/200\n",
            "4/4 [==============================] - 0s 7ms/step - loss: 0.0553 - accuracy: 1.0000\n",
            "Epoch 121/200\n",
            "4/4 [==============================] - 0s 6ms/step - loss: 0.0633 - accuracy: 1.0000\n",
            "Epoch 122/200\n",
            "4/4 [==============================] - 0s 5ms/step - loss: 0.0338 - accuracy: 1.0000\n",
            "Epoch 123/200\n",
            "4/4 [==============================] - 0s 5ms/step - loss: 0.0352 - accuracy: 1.0000\n",
            "Epoch 124/200\n",
            "4/4 [==============================] - 0s 4ms/step - loss: 0.0035 - accuracy: 1.0000\n",
            "Epoch 125/200\n",
            "4/4 [==============================] - 0s 5ms/step - loss: 0.0417 - accuracy: 1.0000\n",
            "Epoch 126/200\n",
            "4/4 [==============================] - 0s 6ms/step - loss: 0.0169 - accuracy: 1.0000\n",
            "Epoch 127/200\n",
            "4/4 [==============================] - 0s 5ms/step - loss: 0.0273 - accuracy: 1.0000\n",
            "Epoch 128/200\n",
            "4/4 [==============================] - 0s 6ms/step - loss: 0.0124 - accuracy: 1.0000\n",
            "Epoch 129/200\n",
            "4/4 [==============================] - 0s 6ms/step - loss: 0.0434 - accuracy: 1.0000\n",
            "Epoch 130/200\n",
            "4/4 [==============================] - 0s 5ms/step - loss: 0.0064 - accuracy: 1.0000\n",
            "Epoch 131/200\n",
            "4/4 [==============================] - 0s 5ms/step - loss: 0.0327 - accuracy: 1.0000\n",
            "Epoch 132/200\n",
            "4/4 [==============================] - 0s 5ms/step - loss: 0.0210 - accuracy: 1.0000\n",
            "Epoch 133/200\n",
            "4/4 [==============================] - 0s 5ms/step - loss: 0.0053 - accuracy: 1.0000\n",
            "Epoch 134/200\n",
            "4/4 [==============================] - 0s 6ms/step - loss: 0.0021 - accuracy: 1.0000\n",
            "Epoch 135/200\n",
            "4/4 [==============================] - 0s 5ms/step - loss: 0.0024 - accuracy: 1.0000\n",
            "Epoch 136/200\n",
            "4/4 [==============================] - 0s 5ms/step - loss: 0.0067 - accuracy: 1.0000\n",
            "Epoch 137/200\n",
            "4/4 [==============================] - 0s 5ms/step - loss: 0.0463 - accuracy: 0.9474\n",
            "Epoch 138/200\n",
            "4/4 [==============================] - 0s 7ms/step - loss: 0.0184 - accuracy: 1.0000\n",
            "Epoch 139/200\n",
            "4/4 [==============================] - 0s 5ms/step - loss: 0.0179 - accuracy: 1.0000\n",
            "Epoch 140/200\n",
            "4/4 [==============================] - 0s 5ms/step - loss: 0.0293 - accuracy: 1.0000\n",
            "Epoch 141/200\n",
            "4/4 [==============================] - 0s 5ms/step - loss: 0.0112 - accuracy: 1.0000\n",
            "Epoch 142/200\n",
            "4/4 [==============================] - 0s 5ms/step - loss: 0.0373 - accuracy: 1.0000\n",
            "Epoch 143/200\n",
            "4/4 [==============================] - 0s 6ms/step - loss: 0.0040 - accuracy: 1.0000\n",
            "Epoch 144/200\n",
            "4/4 [==============================] - 0s 5ms/step - loss: 0.0043 - accuracy: 1.0000\n",
            "Epoch 145/200\n",
            "4/4 [==============================] - 0s 5ms/step - loss: 0.0227 - accuracy: 1.0000\n",
            "Epoch 146/200\n",
            "4/4 [==============================] - 0s 5ms/step - loss: 0.0127 - accuracy: 1.0000\n",
            "Epoch 147/200\n",
            "4/4 [==============================] - 0s 6ms/step - loss: 0.0672 - accuracy: 1.0000\n",
            "Epoch 148/200\n",
            "4/4 [==============================] - 0s 6ms/step - loss: 0.0596 - accuracy: 1.0000\n",
            "Epoch 149/200\n",
            "4/4 [==============================] - 0s 6ms/step - loss: 0.0147 - accuracy: 1.0000\n",
            "Epoch 150/200\n",
            "4/4 [==============================] - 0s 5ms/step - loss: 0.0628 - accuracy: 1.0000\n",
            "Epoch 151/200\n",
            "4/4 [==============================] - 0s 6ms/step - loss: 0.0552 - accuracy: 1.0000\n",
            "Epoch 152/200\n",
            "4/4 [==============================] - 0s 6ms/step - loss: 0.0019 - accuracy: 1.0000\n",
            "Epoch 153/200\n",
            "4/4 [==============================] - 0s 27ms/step - loss: 0.0012 - accuracy: 1.0000\n",
            "Epoch 154/200\n",
            "4/4 [==============================] - 0s 27ms/step - loss: 0.0049 - accuracy: 1.0000\n",
            "Epoch 155/200\n",
            "4/4 [==============================] - 0s 16ms/step - loss: 0.0640 - accuracy: 1.0000\n",
            "Epoch 156/200\n",
            "4/4 [==============================] - 0s 20ms/step - loss: 0.0258 - accuracy: 1.0000\n",
            "Epoch 157/200\n",
            "4/4 [==============================] - 0s 12ms/step - loss: 0.0032 - accuracy: 1.0000\n",
            "Epoch 158/200\n",
            "4/4 [==============================] - 0s 9ms/step - loss: 0.0999 - accuracy: 0.9474\n",
            "Epoch 159/200\n",
            "4/4 [==============================] - 0s 9ms/step - loss: 0.0224 - accuracy: 1.0000\n",
            "Epoch 160/200\n",
            "4/4 [==============================] - 0s 5ms/step - loss: 0.0232 - accuracy: 1.0000\n",
            "Epoch 161/200\n",
            "4/4 [==============================] - 0s 5ms/step - loss: 0.0193 - accuracy: 1.0000\n",
            "Epoch 162/200\n",
            "4/4 [==============================] - 0s 5ms/step - loss: 0.0052 - accuracy: 1.0000\n",
            "Epoch 163/200\n",
            "4/4 [==============================] - 0s 5ms/step - loss: 0.0631 - accuracy: 1.0000\n",
            "Epoch 164/200\n",
            "4/4 [==============================] - 0s 5ms/step - loss: 0.0087 - accuracy: 1.0000\n",
            "Epoch 165/200\n",
            "4/4 [==============================] - 0s 5ms/step - loss: 0.0441 - accuracy: 1.0000\n",
            "Epoch 166/200\n",
            "4/4 [==============================] - 0s 5ms/step - loss: 0.0019 - accuracy: 1.0000\n",
            "Epoch 167/200\n",
            "4/4 [==============================] - 0s 5ms/step - loss: 0.0016 - accuracy: 1.0000\n",
            "Epoch 168/200\n",
            "4/4 [==============================] - 0s 5ms/step - loss: 0.0185 - accuracy: 1.0000\n",
            "Epoch 169/200\n",
            "4/4 [==============================] - 0s 7ms/step - loss: 0.0700 - accuracy: 1.0000\n",
            "Epoch 170/200\n",
            "4/4 [==============================] - 0s 5ms/step - loss: 0.0128 - accuracy: 1.0000\n",
            "Epoch 171/200\n",
            "4/4 [==============================] - 0s 6ms/step - loss: 0.0164 - accuracy: 1.0000\n",
            "Epoch 172/200\n",
            "4/4 [==============================] - 0s 6ms/step - loss: 0.0218 - accuracy: 1.0000\n",
            "Epoch 173/200\n",
            "4/4 [==============================] - 0s 5ms/step - loss: 0.0756 - accuracy: 0.9474\n",
            "Epoch 174/200\n",
            "4/4 [==============================] - 0s 6ms/step - loss: 0.0273 - accuracy: 1.0000\n",
            "Epoch 175/200\n",
            "4/4 [==============================] - 0s 5ms/step - loss: 0.0334 - accuracy: 1.0000\n",
            "Epoch 176/200\n",
            "4/4 [==============================] - 0s 5ms/step - loss: 0.0056 - accuracy: 1.0000\n",
            "Epoch 177/200\n",
            "4/4 [==============================] - 0s 6ms/step - loss: 0.0154 - accuracy: 1.0000\n",
            "Epoch 178/200\n",
            "4/4 [==============================] - 0s 5ms/step - loss: 0.0253 - accuracy: 1.0000\n",
            "Epoch 179/200\n",
            "4/4 [==============================] - 0s 5ms/step - loss: 0.0257 - accuracy: 1.0000\n",
            "Epoch 180/200\n",
            "4/4 [==============================] - 0s 5ms/step - loss: 0.0129 - accuracy: 1.0000\n",
            "Epoch 181/200\n",
            "4/4 [==============================] - 0s 5ms/step - loss: 0.0167 - accuracy: 1.0000\n",
            "Epoch 182/200\n",
            "4/4 [==============================] - 0s 5ms/step - loss: 0.0041 - accuracy: 1.0000\n",
            "Epoch 183/200\n",
            "4/4 [==============================] - 0s 8ms/step - loss: 0.0074 - accuracy: 1.0000\n",
            "Epoch 184/200\n",
            "4/4 [==============================] - 0s 6ms/step - loss: 0.0148 - accuracy: 1.0000\n",
            "Epoch 185/200\n",
            "4/4 [==============================] - 0s 5ms/step - loss: 0.0082 - accuracy: 1.0000\n",
            "Epoch 186/200\n",
            "4/4 [==============================] - 0s 5ms/step - loss: 0.0018 - accuracy: 1.0000\n",
            "Epoch 187/200\n",
            "4/4 [==============================] - 0s 6ms/step - loss: 0.0090 - accuracy: 1.0000\n",
            "Epoch 188/200\n",
            "4/4 [==============================] - 0s 6ms/step - loss: 0.0028 - accuracy: 1.0000\n",
            "Epoch 189/200\n",
            "4/4 [==============================] - 0s 5ms/step - loss: 0.0098 - accuracy: 1.0000\n",
            "Epoch 190/200\n",
            "4/4 [==============================] - 0s 5ms/step - loss: 0.0055 - accuracy: 1.0000\n",
            "Epoch 191/200\n",
            "4/4 [==============================] - 0s 5ms/step - loss: 0.0326 - accuracy: 1.0000\n",
            "Epoch 192/200\n",
            "4/4 [==============================] - 0s 6ms/step - loss: 0.0146 - accuracy: 1.0000\n",
            "Epoch 193/200\n",
            "4/4 [==============================] - 0s 6ms/step - loss: 0.0201 - accuracy: 1.0000\n",
            "Epoch 194/200\n",
            "4/4 [==============================] - 0s 6ms/step - loss: 0.0053 - accuracy: 1.0000\n",
            "Epoch 195/200\n",
            "4/4 [==============================] - 0s 6ms/step - loss: 0.1411 - accuracy: 0.9474\n",
            "Epoch 196/200\n",
            "4/4 [==============================] - 0s 4ms/step - loss: 0.0030 - accuracy: 1.0000\n",
            "Epoch 197/200\n",
            "4/4 [==============================] - 0s 6ms/step - loss: 0.0041 - accuracy: 1.0000\n",
            "Epoch 198/200\n",
            "4/4 [==============================] - 0s 5ms/step - loss: 0.0137 - accuracy: 1.0000\n",
            "Epoch 199/200\n",
            "4/4 [==============================] - 0s 5ms/step - loss: 0.0021 - accuracy: 1.0000\n",
            "Epoch 200/200\n",
            "4/4 [==============================] - 0s 5ms/step - loss: 0.0253 - accuracy: 1.0000\n"
          ]
        }
      ]
    },
    {
      "cell_type": "code",
      "source": [
        "bot_model.save('chatbot_model.h5', hist)"
      ],
      "metadata": {
        "colab": {
          "base_uri": "https://localhost:8080/"
        },
        "id": "gm8q8osuqJ2N",
        "outputId": "f710f2b8-f5b8-4a39-ece1-7074c3351f18"
      },
      "execution_count": 19,
      "outputs": [
        {
          "output_type": "stream",
          "name": "stderr",
          "text": [
            "/usr/local/lib/python3.10/dist-packages/keras/src/engine/training.py:3103: UserWarning: You are saving your model as an HDF5 file via `model.save()`. This file format is considered legacy. We recommend using instead the native Keras format, e.g. `model.save('my_model.keras')`.\n",
            "  saving_api.save_model(\n"
          ]
        }
      ]
    },
    {
      "cell_type": "code",
      "source": [
        "from keras.models import load_model\n",
        "intents_file = json.loads(open('intents.json').read())\n",
        "lem_words = pickle.load(open('lem_words.pkl','rb'))\n",
        "classes = pickle.load(open('classes.pkl','rb'))\n",
        "bot_model = load_model('chatbot_model.h5')"
      ],
      "metadata": {
        "id": "nwjDruc7qOS4"
      },
      "execution_count": 20,
      "outputs": []
    },
    {
      "cell_type": "code",
      "source": [
        "def cleaning(text):\n",
        "    words = nltk.word_tokenize(text)\n",
        "    words = [lemmatizer.lemmatize(word.lower()) for word in words]\n",
        "    return words"
      ],
      "metadata": {
        "id": "I52HQMSgqiEQ"
      },
      "execution_count": 21,
      "outputs": []
    },
    {
      "cell_type": "code",
      "source": [
        "def bag_ow(text, words, show_details=True):\n",
        "    sentence_words = cleaning(text)\n",
        "    bag_of_words = [0]*len(words)\n",
        "    for s in sentence_words:\n",
        "        for i,w in enumerate(words):\n",
        "            if w == s:\n",
        "                bag_of_words[i] = 1\n",
        "    return (np.array(bag_of_words))"
      ],
      "metadata": {
        "id": "PJ2IKJMqqnuR"
      },
      "execution_count": 22,
      "outputs": []
    },
    {
      "cell_type": "code",
      "source": [
        "def class_prediction(sentence, model):\n",
        "    p = bag_ow(sentence, lem_words,show_details=False)\n",
        "    result = bot_model.predict(np.array([p]))[0]\n",
        "    ER_THRESHOLD = 0.30\n",
        "    f_results = [[i,r] for i,r in enumerate(result) if r > ER_THRESHOLD]\n",
        "    f_results.sort(key=lambda x: x[1], reverse=True)\n",
        "    intent_prob_list = []\n",
        "    for i in f_results:\n",
        "        intent_prob_list.append({\"intent\": classes[i[0]], \"probability\": str(i[1])})\n",
        "    return intent_prob_list"
      ],
      "metadata": {
        "id": "E5uISjthqn9h"
      },
      "execution_count": 26,
      "outputs": []
    },
    {
      "cell_type": "code",
      "source": [
        "def getbotResponse(ints, intents):\n",
        "    tag = ints[0]['intent']\n",
        "    intents_list = intents['intents']\n",
        "    for intent in intents_list:\n",
        "        if(intent['tag']== tag):\n",
        "            result = random.choice(intent['responses'])\n",
        "            break\n",
        "    return result\n",
        "def bot_response(text):\n",
        "    ints = class_prediction(text, bot_model)\n",
        "    response = getbotResponse(ints, intents)\n",
        "    return response"
      ],
      "metadata": {
        "id": "EOcehT-0qqK5"
      },
      "execution_count": 24,
      "outputs": []
    },
    {
      "cell_type": "code",
      "source": [
        "for i in range(3):\n",
        "  text = input(\"You : \")\n",
        "  print(\"Bot : \",bot_response(text))"
      ],
      "metadata": {
        "colab": {
          "base_uri": "https://localhost:8080/"
        },
        "id": "2eRfqyGwrAD8",
        "outputId": "a1c842a5-8e78-45d9-fe0c-8a86f2fd6951"
      },
      "execution_count": 27,
      "outputs": [
        {
          "output_type": "stream",
          "name": "stdout",
          "text": [
            "You : hi\n",
            "1/1 [==============================] - 0s 26ms/step\n",
            "Bot :  Hi there, how can I help you?\n",
            "You : what can you do?\n",
            "1/1 [==============================] - 0s 33ms/step\n",
            "Bot :  I can help you to book flight tickets easily\n",
            "You : thanks\n",
            "1/1 [==============================] - 0s 22ms/step\n",
            "Bot :  Happy to help you\n"
          ]
        }
      ]
    }
  ]
}